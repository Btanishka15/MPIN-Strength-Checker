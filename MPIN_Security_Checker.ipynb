{
  "nbformat": 4,
  "nbformat_minor": 0,
  "metadata": {
    "colab": {
      "provenance": []
    },
    "kernelspec": {
      "name": "python3",
      "display_name": "Python 3"
    },
    "language_info": {
      "name": "python"
    }
  },
  "cells": [
    {
      "cell_type": "markdown",
      "source": [
        "# MPIN SECURITY STRENGTH CHECKER"
      ],
      "metadata": {
        "id": "DtbH8dSrOb4Q"
      }
    },
    {
      "cell_type": "code",
      "execution_count": 1,
      "metadata": {
        "id": "vTeuMl-1ODzJ"
      },
      "outputs": [],
      "source": [
        "# MPIN SECURITY STRENGTH CHECKER\n",
        "from typing import Optional, Dict, List, Set\n",
        "COMMON_MPINS: Set[str] = {\n",
        "    \"1234\", \"0000\", \"1111\", \"1212\", \"1122\", \"9999\", \"2580\", \"0852\",\n",
        "    \"4321\", \"6969\", \"1004\", \"2000\", \"2222\", \"3333\", \"4444\", \"5555\",\n",
        "    \"6666\", \"7777\", \"8888\"\n",
        "}"
      ]
    },
    {
      "cell_type": "markdown",
      "source": [
        "PART A: Check if MPIN is common\n"
      ],
      "metadata": {
        "id": "ekEttBcgOtr4"
      }
    },
    {
      "cell_type": "code",
      "source": [
        "def is_common_mpin(mpin):\n",
        "    return mpin in COMMON_MPINS\n"
      ],
      "metadata": {
        "id": "axz9IBWwOzi2"
      },
      "execution_count": 3,
      "outputs": []
    },
    {
      "cell_type": "markdown",
      "source": [
        "PART B and PART C: Strength and Reason"
      ],
      "metadata": {
        "id": "H9J-dOeUO8-o"
      }
    },
    {
      "cell_type": "code",
      "source": [
        "def extract_date_variants(date_str):\n",
        "    # Input format expected: 'YYYY-MM-DD'\n",
        "    year, month, day = date_str.split(\"-\")\n",
        "    return {\n",
        "        day + month,          # DDMM\n",
        "        month + day,          # MMDD\n",
        "        year[-2:] + month,    # YYMM\n",
        "        month + year[-2:],    # MMYY\n",
        "        day + year[-2:],      # DDYY\n",
        "        year[-2:] + day,      # YYDD\n",
        "        month + year,         # MMYYYY\n",
        "        year + month,         # YYYYMM\n",
        "        year + day,           # YYYYDD\n",
        "        day + month + year[-2:], # DDMMYY\n",
        "    }"
      ],
      "metadata": {
        "id": "ziww_MnfP48t"
      },
      "execution_count": 4,
      "outputs": []
    },
    {
      "cell_type": "code",
      "source": [
        "def analyze_mpin(mpin, user_dob=None, spouse_dob=None, anniversary=None):\n",
        "    reasons = []\n",
        "    # Part C Reason 1: Commonly Used\n",
        "    if is_common_mpin(mpin):\n",
        "        reasons.append(\"COMMONLY_USED\")\n",
        "\n",
        "    # Part C Reason 2: User DOB check\n",
        "    if user_dob:\n",
        "        dob_variants = extract_date_variants(user_dob)\n",
        "        if mpin in dob_variants:\n",
        "            reasons.append(\"DEMOGRAPHIC_DOB_SELF\")\n",
        "\n",
        "    # Part C Reason 3: Spouse DOB check\n",
        "    if spouse_dob:\n",
        "        dob_variants = extract_date_variants(spouse_dob)\n",
        "        if mpin in dob_variants:\n",
        "            reasons.append(\"DEMOGRAPHIC_DOB_SPOUSE\")\n",
        "\n",
        "    # Part C Reason 4: Anniversary check\n",
        "    if anniversary:\n",
        "        anni_variants = extract_date_variants(anniversary)\n",
        "        if mpin in anni_variants:\n",
        "            reasons.append(\"DEMOGRAPHIC_ANNIVERSARY\")\n",
        "\n",
        "    strength = \"WEAK\" if reasons else \"STRONG\"\n",
        "\n",
        "    return {\n",
        "        \"Strength\": strength,\n",
        "        \"Reasons\": reasons\n",
        "    }"
      ],
      "metadata": {
        "id": "O-Xx5iUFPPxU"
      },
      "execution_count": 5,
      "outputs": []
    },
    {
      "cell_type": "markdown",
      "source": [
        "PART D: Support for 6 Digit PINs\n"
      ],
      "metadata": {
        "id": "6AgWrr4NPqxf"
      }
    },
    {
      "cell_type": "code",
      "source": [
        "def analyze_mpin_6digit(mpin, user_dob=None, spouse_dob=None, anniversary=None):\n",
        "    return analyze_mpin(mpin, user_dob, spouse_dob, anniversary)"
      ],
      "metadata": {
        "id": "AzTk0NrWPxYI"
      },
      "execution_count": 6,
      "outputs": []
    },
    {
      "cell_type": "markdown",
      "source": [
        "PART E: Run Test Cases\n"
      ],
      "metadata": {
        "id": "7hsqz-fdP87A"
      }
    },
    {
      "cell_type": "code",
      "source": [
        "from IPython.display import display, HTML\n",
        "def run_tests():\n",
        "    test_cases = [\n",
        "        {\"mpin\": \"1234\", \"user_dob\": \"1998-01-02\"},\n",
        "        {\"mpin\": \"0201\", \"user_dob\": \"1998-01-02\"},\n",
        "        {\"mpin\": \"0102\", \"user_dob\": \"1998-01-02\"},\n",
        "        {\"mpin\": \"9802\", \"user_dob\": \"1998-01-02\"},\n",
        "        {\"mpin\": \"6969\"},\n",
        "        {\"mpin\": \"9999\"},\n",
        "        {\"mpin\": \"2222\"},\n",
        "        {\"mpin\": \"1480\", \"spouse_dob\": \"1980-12-05\"},\n",
        "        {\"mpin\": \"1212\", \"anniversary\": \"2020-12-12\"},\n",
        "        {\"mpin\": \"0512\", \"spouse_dob\": \"1980-12-05\"},\n",
        "        {\"mpin\": \"2001\", \"user_dob\": \"2001-08-15\"},\n",
        "        {\"mpin\": \"0815\", \"user_dob\": \"2001-08-15\"},\n",
        "        {\"mpin\": \"1508\", \"user_dob\": \"2001-08-15\"},\n",
        "        {\"mpin\": \"2580\"},\n",
        "        {\"mpin\": \"5432\"},\n",
        "        {\"mpin\": \"8888\"},\n",
        "        {\"mpin\": \"010119\", \"user_dob\": \"2019-01-01\"},  # 6-digit\n",
        "        {\"mpin\": \"201901\", \"user_dob\": \"2019-01-01\"},\n",
        "        {\"mpin\": \"3107\", \"anniversary\": \"2022-07-31\"},\n",
        "        {\"mpin\": \"9876\"}  # STRONG\n",
        "    ]\n",
        "    result_rows=[]\n",
        "    import pandas as pd\n",
        "    for idx, case in enumerate(test_cases, 1):\n",
        "        mpin = case[\"mpin\"]\n",
        "        result = analyze_mpin_6digit(\n",
        "            mpin,\n",
        "            user_dob=case.get(\"user_dob\"),\n",
        "            spouse_dob=case.get(\"spouse_dob\"),\n",
        "            anniversary=case.get(\"anniversary\")\n",
        "        )\n",
        "    #     result_rows.append({\n",
        "    #         \"Test Case\": idx,\n",
        "    #         \"MPIN\": mpin,\n",
        "    #         \"User DOB\": case.get(\"user_dob\", \"-\"),\n",
        "    #         \"Spouse DOB\": case.get(\"spouse_dob\", \"-\"),\n",
        "    #         \"Anniversary\": case.get(\"anniversary\", \"-\"),\n",
        "    #         \"Strength\": result[\"Strength\"],\n",
        "    #         \"Reasons\": \", \".join(result[\"Reasons\"]) if result[\"Reasons\"] else \"-\"\n",
        "    #     })\n",
        "    # df = pd.DataFrame(result_rows)\n",
        "\n",
        "    # def highlight_strength(val):\n",
        "    #     color = \"red\" if val == \"WEAK\" else \"green\"\n",
        "    #     return f\"color: {color}; font-weight: bold\"\n",
        "\n",
        "    # styled_df = df.style.applymap(highlight_strength, subset=[\"Strength\"])\n",
        "    # display(HTML(\"<h3 style='color: white;'>MPIN Analysis Summary (20 Cases)</h3>\"))\n",
        "    # display(styled_df)\n",
        "\n",
        "\n",
        "import gradio as gr\n",
        "\n",
        "def gradio_mpin_checker(mpin, user_dob, spouse_dob, anniversary):\n",
        "    result = analyze_mpin_6digit(mpin, user_dob or None, spouse_dob or None, anniversary or None)\n",
        "    return f\"Strength: {result['Strength']}\\n📌 Reasons: {', '.join(result['Reasons']) or 'None'}\"\n",
        "\n",
        "gr.Interface(\n",
        "    fn=gradio_mpin_checker,\n",
        "    inputs=[\n",
        "        gr.Text(label=\"MPIN (4 or 6 digits)\"),\n",
        "        gr.Text(label=\"User DOB (YYYY-MM-DD)\", placeholder=\"Optional\"),\n",
        "        gr.Text(label=\"Spouse DOB (YYYY-MM-DD)\", placeholder=\"Optional\"),\n",
        "        gr.Text(label=\"Anniversary (YYYY-MM-DD)\", placeholder=\"Optional\"),\n",
        "    ],\n",
        "    outputs=\"text\",\n",
        "    title=\"MPIN Strength Checker 💡\",\n",
        "    description=\"Check if your MPIN is secure and not guessable.\"\n",
        ").launch()\n",
        "\n",
        "if __name__ == \"__main__\":\n",
        "    run_tests()"
      ],
      "metadata": {
        "colab": {
          "base_uri": "https://localhost:8080/",
          "height": 650
        },
        "id": "pu6a9tngQAmj",
        "outputId": "d2d8c453-3a9e-460f-c524-8b9be0bba5b4"
      },
      "execution_count": 26,
      "outputs": [
        {
          "output_type": "stream",
          "name": "stdout",
          "text": [
            "It looks like you are running Gradio on a hosted a Jupyter notebook. For the Gradio app to work, sharing must be enabled. Automatically setting `share=True` (you can turn this off by setting `share=False` in `launch()` explicitly).\n",
            "\n",
            "Colab notebook detected. To show errors in colab notebook, set debug=True in launch()\n",
            "* Running on public URL: https://fbe038b2c304bc5c36.gradio.live\n",
            "\n",
            "This share link expires in 1 week. For free permanent hosting and GPU upgrades, run `gradio deploy` from the terminal in the working directory to deploy to Hugging Face Spaces (https://huggingface.co/spaces)\n"
          ]
        },
        {
          "output_type": "display_data",
          "data": {
            "text/plain": [
              "<IPython.core.display.HTML object>"
            ],
            "text/html": [
              "<div><iframe src=\"https://fbe038b2c304bc5c36.gradio.live\" width=\"100%\" height=\"500\" allow=\"autoplay; camera; microphone; clipboard-read; clipboard-write;\" frameborder=\"0\" allowfullscreen></iframe></div>"
            ]
          },
          "metadata": {}
        }
      ]
    }
  ]
}